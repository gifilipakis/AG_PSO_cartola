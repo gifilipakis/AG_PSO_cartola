{
 "cells": [
  {
   "cell_type": "markdown",
   "id": "shaped-distinction",
   "metadata": {},
   "source": [
    "# Particle Swarm Optimization - Cartola"
   ]
  },
  {
   "cell_type": "markdown",
   "id": "rising-guinea",
   "metadata": {},
   "source": [
    "## Modelagem da partícula"
   ]
  },
  {
   "cell_type": "markdown",
   "id": "distinguished-brush",
   "metadata": {},
   "source": [
    "### Parâmetros da partícula:\n",
    "\n",
    "Somatória das pontuações de 11 jogadores e 1 técnico escalados\n",
    "\n",
    "Posição dos membros do time: atacante, zagueiro, lateral, meio-campista, goleiro\n",
    "\n",
    "Formações táticas (defensores, meio-campistas, atacantes): 4-3-3, 4-4-2, 4-5-1, 3-5-2, 3-4-3, 5-3-2, 5-4-1\n",
    "\n",
    "    * 4 defensores = 2 zagueiros e 2 laterais\n",
    "    \n",
    "    * 5 defensores = 3 zagueiros 2 laterais\n",
    "    \n",
    "Status dos jogadores: provável, contundido, dúvida, suspenso, nula\n",
    "\n",
    "#### Restrições:\n",
    "\n",
    "Quantidade de cartolas disponíveis\n",
    "Membro disponível\n",
    "\n",
    "#### Representação da partícula:\n",
    "\n",
    "[ [ defensores ( zagueiros ou lateriais ) ], [ meio-campistas ], [ atacantes ], técnico ]"
   ]
  },
  {
   "cell_type": "markdown",
   "id": "existing-purple",
   "metadata": {},
   "source": [
    "## Pseudo-code"
   ]
  },
  {
   "cell_type": "code",
   "execution_count": 1,
   "id": "prostate-recommendation",
   "metadata": {},
   "outputs": [],
   "source": [
    "import pandas as pd\n",
    "import random"
   ]
  },
  {
   "cell_type": "code",
   "execution_count": 2,
   "id": "wound-boulder",
   "metadata": {},
   "outputs": [
    {
     "data": {
      "text/html": [
       "<div>\n",
       "<style scoped>\n",
       "    .dataframe tbody tr th:only-of-type {\n",
       "        vertical-align: middle;\n",
       "    }\n",
       "\n",
       "    .dataframe tbody tr th {\n",
       "        vertical-align: top;\n",
       "    }\n",
       "\n",
       "    .dataframe thead th {\n",
       "        text-align: right;\n",
       "    }\n",
       "</style>\n",
       "<table border=\"1\" class=\"dataframe\">\n",
       "  <thead>\n",
       "    <tr style=\"text-align: right;\">\n",
       "      <th></th>\n",
       "      <th>id</th>\n",
       "      <th>posicao</th>\n",
       "      <th>pontos</th>\n",
       "      <th>preco</th>\n",
       "      <th>status</th>\n",
       "    </tr>\n",
       "  </thead>\n",
       "  <tbody>\n",
       "    <tr>\n",
       "      <th>21330</th>\n",
       "      <td>94975</td>\n",
       "      <td>mei</td>\n",
       "      <td>0.0</td>\n",
       "      <td>1.46</td>\n",
       "      <td>Nulo</td>\n",
       "    </tr>\n",
       "    <tr>\n",
       "      <th>17271</th>\n",
       "      <td>89827</td>\n",
       "      <td>ata</td>\n",
       "      <td>0.0</td>\n",
       "      <td>4.17</td>\n",
       "      <td>Nulo</td>\n",
       "    </tr>\n",
       "    <tr>\n",
       "      <th>26436</th>\n",
       "      <td>100742</td>\n",
       "      <td>mei</td>\n",
       "      <td>0.0</td>\n",
       "      <td>1.04</td>\n",
       "      <td>Nulo</td>\n",
       "    </tr>\n",
       "    <tr>\n",
       "      <th>7082</th>\n",
       "      <td>70118</td>\n",
       "      <td>mei</td>\n",
       "      <td>0.0</td>\n",
       "      <td>1.27</td>\n",
       "      <td>Nulo</td>\n",
       "    </tr>\n",
       "    <tr>\n",
       "      <th>10485</th>\n",
       "      <td>78497</td>\n",
       "      <td>lat</td>\n",
       "      <td>0.0</td>\n",
       "      <td>5.49</td>\n",
       "      <td>Contundido</td>\n",
       "    </tr>\n",
       "  </tbody>\n",
       "</table>\n",
       "</div>"
      ],
      "text/plain": [
       "           id posicao  pontos  preco      status\n",
       "21330   94975     mei     0.0   1.46        Nulo\n",
       "17271   89827     ata     0.0   4.17        Nulo\n",
       "26436  100742     mei     0.0   1.04        Nulo\n",
       "7082    70118     mei     0.0   1.27        Nulo\n",
       "10485   78497     lat     0.0   5.49  Contundido"
      ]
     },
     "execution_count": 2,
     "metadata": {},
     "output_type": "execute_result"
    }
   ],
   "source": [
    "jogadores = pd.read_csv(\"caRtola/data/desafio_valorizacao/valorizacao_cartola_2018.csv\")\n",
    "jogadores = jogadores[['id','posicao','pontos','preco','status']].sample(n=200, random_state=1)\n",
    "jogadores.head()"
   ]
  },
  {
   "cell_type": "code",
   "execution_count": 6,
   "id": "creative-reputation",
   "metadata": {},
   "outputs": [],
   "source": [
    "# class Jogador:\n",
    "#     def __init__(self, info):\n",
    "#         self.id = info[0]\n",
    "#         self.pos = info[1]\n",
    "#         self.pts = info[2]\n",
    "#         self.prc = info[3]\n",
    "#         self.sts = info[4]\n",
    "\n",
    "class Time:\n",
    "    def __init__(self, formacao, jogadores):\n",
    "        self.formacao = formacao #4-3-3, 4-4-2, 4-5-1, 3-5-2, 3-4-3, 5-3-2, 5-4-1\n",
    "        self.jogadores = self.criaTime(jogadores) # jogador: [id, posicao, pontos, preco, status]\n",
    "        self.fitness = 0\n",
    "        self.preco = 0\n",
    "        self.velocidade = None\n",
    "        self.pbest = 0\n",
    "        \n",
    "    def criaTime(self, jogadores):\n",
    "        time = [None,None,None,None] # time: [[defensores],[meio-campinstas],[atacantes],tecnico]\n",
    "        if self.formacao == 433:\n",
    "            time[0] = random.sample(jogadores.loc[jogadores['posicao']=='zag'].values.tolist(),2)+(random.sample(jogadores.loc[jogadores['posicao']=='lat'].values.tolist(),2))\n",
    "            time[1] = random.sample(jogadores.loc[jogadores['posicao']=='mei'].values.tolist(),3)\n",
    "            time[2] = random.sample(jogadores.loc[jogadores['posicao']=='ata'].values.tolist(),3)\n",
    "            time[3] = random.sample(jogadores.loc[jogadores['posicao']=='tec'].values.tolist(),1)\n",
    "        elif self.formacao == 442:\n",
    "            time[0] = random.sample(jogadores.loc[jogadores['posicao']=='zag'].values.tolist(),2)+(random.sample(jogadores.loc[jogadores['posicao']=='lat'].values.tolist(),2))\n",
    "            time[1] = random.sample(jogadores.loc[jogadores['posicao']=='mei'].values.tolist(),4)\n",
    "            time[2] = random.sample(jogadores.loc[jogadores['posicao']=='ata'].values.tolist(),2)\n",
    "            time[3] = random.sample(jogadores.loc[jogadores['posicao']=='tec'].values.tolist(),1)\n",
    "        elif self.formacao == 451:\n",
    "            time[0] = random.sample(jogadores.loc[jogadores['posicao']=='zag'].values.tolist(),2)+(random.sample(jogadores.loc[jogadores['posicao']=='lat'].values.tolist(),2))\n",
    "            time[1] = random.sample(jogadores.loc[jogadores['posicao']=='mei'].values.tolist(),5)\n",
    "            time[2] = random.sample(jogadores.loc[jogadores['posicao']=='ata'].values.tolist(),1)\n",
    "            time[3] = random.sample(jogadores.loc[jogadores['posicao']=='tec'].values.tolist(),1)\n",
    "        elif self.formacao == 352:\n",
    "            time[0] = random.sample(jogadores.loc[(jogadores['posicao']=='zag')|(jogadores['posicao']=='lat')].values.tolist(),3)\n",
    "            time[1] = random.sample(jogadores.loc[jogadores['posicao']=='mei'].values.tolist(),5)\n",
    "            time[2] = random.sample(jogadores.loc[jogadores['posicao']=='ata'].values.tolist(),2)\n",
    "            time[3] = random.sample(jogadores.loc[jogadores['posicao']=='tec'].values.tolist(),1)\n",
    "        elif self.formacao == 343:\n",
    "            time[0] = random.sample(jogadores.loc[(jogadores['posicao']=='zag')|(jogadores['posicao']=='lat')].values.tolist(),3)\n",
    "            time[1] = random.sample(jogadores.loc[jogadores['posicao']=='mei'].values.tolist(),4)\n",
    "            time[2] = random.sample(jogadores.loc[jogadores['posicao']=='ata'].values.tolist(),3)\n",
    "            time[3] = random.sample(jogadores.loc[jogadores['posicao']=='tec'].values.tolist(),1)\n",
    "        elif self.formacao == 532:\n",
    "            time[0] = random.sample(jogadores.loc[jogadores['posicao']=='zag'].values.tolist(),3)+(random.sample(jogadores.loc[jogadores['posicao']=='lat'].values.tolist(),2))\n",
    "            time[1] = random.sample(jogadores.loc[jogadores['posicao']=='mei'].values.tolist(),3)\n",
    "            time[2] = random.sample(jogadores.loc[jogadores['posicao']=='ata'].values.tolist(),2)\n",
    "            time[3] = random.sample(jogadores.loc[jogadores['posicao']=='tec'].values.tolist(),1)\n",
    "        elif self.formacao == 541:\n",
    "            time[0] = random.sample(jogadores.loc[jogadores['posicao']=='zag'].values.tolist(),3)+(random.sample(jogadores.loc[jogadores['posicao']=='lat'].values.tolist(),2))\n",
    "            time[1] = random.sample(jogadores.loc[jogadores['posicao']=='mei'].values.tolist(),4)\n",
    "            time[2] = random.sample(jogadores.loc[jogadores['posicao']=='ata'].values.tolist(),1)\n",
    "            time[3] = random.sample(jogadores.loc[jogadores['posicao']=='tec'].values.tolist(),1)\n",
    "        else:\n",
    "            return 'Formação Inválida'\n",
    "        return time\n",
    "    \n",
    "    def calculaFitness(self):\n",
    "        total = 0\n",
    "        for group in self.jogadores:\n",
    "            for jogador in group:\n",
    "                if jogador[4] == 'Contundido' or jogador[4] == 'Suspenso':\n",
    "                    return 0\n",
    "                total += jogador[2]\n",
    "        self.fitness = total\n",
    "    \n",
    "    def calculaPreco(self):\n",
    "        total = 0\n",
    "        for group in self.jogadores:\n",
    "            for jogador in group:\n",
    "                total += jogador[3]\n",
    "        self.preco = total"
   ]
  },
  {
   "cell_type": "code",
   "execution_count": 7,
   "id": "sticky-samuel",
   "metadata": {},
   "outputs": [
    {
     "name": "stdout",
     "output_type": "stream",
     "text": [
      "[[86410, 'lat', 0.0, 9.0, 'Nulo'], [89493, 'zag', -0.6, 10.19, 'Provável'], [97900, 'zag', 0.0, 2.0, 'Nulo']]\n",
      "[[86519, 'mei', 3.1, 6.2, 'Nulo'], [78865, 'mei', 6.9, 11.17, 'Provável'], [94975, 'mei', 0.0, 1.46, 'Nulo'], [97154, 'mei', 0.0, 1.0, 'Nulo']]\n",
      "[[95332, 'ata', 3.2, 4.67, 'Provável'], [81898, 'ata', 0.0, 4.0, 'Nulo'], [70360, 'ata', 2.5, 7.19, 'Nulo']]\n",
      "[[82792, 'tec', 7.88, 13.28, 'Provável']]\n",
      "0 0\n"
     ]
    }
   ],
   "source": [
    "random.seed(10)\n",
    "time1 = Time(343, jogadores)\n",
    "for i in time1.jogadores:\n",
    "    print(i)\n",
    "print(time1.fitness, time1.preco)"
   ]
  },
  {
   "cell_type": "code",
   "execution_count": 5,
   "id": "legal-nerve",
   "metadata": {},
   "outputs": [],
   "source": [
    "formacoes = [433, 442, 451, 352, 343, 532, 541]\n",
    "particles = []\n",
    "for i in range(20):\n",
    "    p = Time(random.choice(formacoes),jogadores)\n",
    "    particles.append(p)\n",
    "iterations = 0\n",
    "gbest = 0\n",
    "while interations<100:\n",
    "    for p in particles:\n",
    "        p.calculaFitness()\n",
    "        if p.fitness > pbest:\n",
    "            pbest = p.fitness\n",
    "        if p.fitness > gbest:\n",
    "            gbest = p\n",
    "    for p in particle:\n",
    "        "
   ]
  },
  {
   "cell_type": "markdown",
   "id": "phantom-communication",
   "metadata": {},
   "source": [
    "    For each particle\n",
    "        Initialize particle\n",
    "    END\n",
    "\n",
    "    Do\n",
    "        For each particle\n",
    "            Calculate fitness value\n",
    "            If the fitness value is better than the best fitness value (pBest) in history\n",
    "                set current value as the new pBest\n",
    "        End\n",
    "\n",
    "        Choose the particle with the best fitness value of all the particles as the gBest\n",
    "        For each particle\n",
    "            Calculate particle velocity according equation (a)\n",
    "            Update particle position according equation (b)\n",
    "        End\n",
    "    While maximum iterations or minimum error criteria is not attained"
   ]
  }
 ],
 "metadata": {
  "kernelspec": {
   "display_name": "Python 3",
   "language": "python",
   "name": "python3"
  },
  "language_info": {
   "codemirror_mode": {
    "name": "ipython",
    "version": 3
   },
   "file_extension": ".py",
   "mimetype": "text/x-python",
   "name": "python",
   "nbconvert_exporter": "python",
   "pygments_lexer": "ipython3",
   "version": "3.9.0"
  }
 },
 "nbformat": 4,
 "nbformat_minor": 5
}
