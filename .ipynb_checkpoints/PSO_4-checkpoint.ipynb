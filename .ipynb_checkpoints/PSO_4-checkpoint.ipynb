{
 "cells": [
  {
   "cell_type": "markdown",
   "id": "shaped-distinction",
   "metadata": {},
   "source": [
    "# Particle Swarm Optimization - Cartola"
   ]
  },
  {
   "cell_type": "markdown",
   "id": "rising-guinea",
   "metadata": {},
   "source": [
    "## Modelagem da partícula"
   ]
  },
  {
   "cell_type": "markdown",
   "id": "distinguished-brush",
   "metadata": {},
   "source": [
    "### Parâmetros da partícula:\n",
    "\n",
    "Somatória das pontuações de 11 jogadores e 1 técnico escalados\n",
    "\n",
    "Posição dos membros do time: atacante, zagueiro, lateral, meio-campista, goleiro\n",
    "\n",
    "Formações táticas (defensores, meio-campistas, atacantes): 4-3-3, 4-4-2, 4-5-1, 3-5-2, 3-4-3, 5-3-2, 5-4-1\n",
    "\n",
    "    * 4 defensores = 2 zagueiros e 2 laterais\n",
    "    \n",
    "    * 5 defensores = 3 zagueiros 2 laterais\n",
    "    \n",
    "Status dos jogadores: provável, contundido, dúvida, suspenso, nula\n",
    "\n",
    "#### Restrições:\n",
    "\n",
    "Quantidade de cartolas disponíveis\n",
    "Membro disponível\n",
    "\n",
    "#### Representação da partícula:\n",
    "\n",
    "[ [ defensores ( zagueiros ou lateriais ) ], [ meio-campistas ], [ atacantes ], técnico ]"
   ]
  },
  {
   "cell_type": "markdown",
   "id": "existing-purple",
   "metadata": {},
   "source": [
    "## Pseudo-code"
   ]
  },
  {
   "cell_type": "code",
   "execution_count": 1,
   "id": "prostate-recommendation",
   "metadata": {},
   "outputs": [],
   "source": [
    "import pandas as pd\n",
    "import random"
   ]
  },
  {
   "cell_type": "code",
   "execution_count": 80,
   "id": "wound-boulder",
   "metadata": {},
   "outputs": [
    {
     "data": {
      "text/html": [
       "<div>\n",
       "<style scoped>\n",
       "    .dataframe tbody tr th:only-of-type {\n",
       "        vertical-align: middle;\n",
       "    }\n",
       "\n",
       "    .dataframe tbody tr th {\n",
       "        vertical-align: top;\n",
       "    }\n",
       "\n",
       "    .dataframe thead th {\n",
       "        text-align: right;\n",
       "    }\n",
       "</style>\n",
       "<table border=\"1\" class=\"dataframe\">\n",
       "  <thead>\n",
       "    <tr style=\"text-align: right;\">\n",
       "      <th></th>\n",
       "      <th>id</th>\n",
       "      <th>posicao</th>\n",
       "      <th>pontos</th>\n",
       "      <th>preco</th>\n",
       "      <th>status</th>\n",
       "    </tr>\n",
       "  </thead>\n",
       "  <tbody>\n",
       "    <tr>\n",
       "      <th>21330</th>\n",
       "      <td>94975</td>\n",
       "      <td>mei</td>\n",
       "      <td>0.0</td>\n",
       "      <td>1.46</td>\n",
       "      <td>Nulo</td>\n",
       "    </tr>\n",
       "    <tr>\n",
       "      <th>17271</th>\n",
       "      <td>89827</td>\n",
       "      <td>ata</td>\n",
       "      <td>0.0</td>\n",
       "      <td>4.17</td>\n",
       "      <td>Nulo</td>\n",
       "    </tr>\n",
       "    <tr>\n",
       "      <th>26436</th>\n",
       "      <td>100742</td>\n",
       "      <td>mei</td>\n",
       "      <td>0.0</td>\n",
       "      <td>1.04</td>\n",
       "      <td>Nulo</td>\n",
       "    </tr>\n",
       "    <tr>\n",
       "      <th>7082</th>\n",
       "      <td>70118</td>\n",
       "      <td>mei</td>\n",
       "      <td>0.0</td>\n",
       "      <td>1.27</td>\n",
       "      <td>Nulo</td>\n",
       "    </tr>\n",
       "    <tr>\n",
       "      <th>10485</th>\n",
       "      <td>78497</td>\n",
       "      <td>lat</td>\n",
       "      <td>0.0</td>\n",
       "      <td>5.49</td>\n",
       "      <td>Contundido</td>\n",
       "    </tr>\n",
       "  </tbody>\n",
       "</table>\n",
       "</div>"
      ],
      "text/plain": [
       "           id posicao  pontos  preco      status\n",
       "21330   94975     mei     0.0   1.46        Nulo\n",
       "17271   89827     ata     0.0   4.17        Nulo\n",
       "26436  100742     mei     0.0   1.04        Nulo\n",
       "7082    70118     mei     0.0   1.27        Nulo\n",
       "10485   78497     lat     0.0   5.49  Contundido"
      ]
     },
     "execution_count": 80,
     "metadata": {},
     "output_type": "execute_result"
    }
   ],
   "source": [
    "jogadores = pd.read_csv(\"caRtola/data/desafio_valorizacao/valorizacao_cartola_2018.csv\")\n",
    "jogadores = jogadores[['id','posicao','pontos','preco','status']].sample(n=200, random_state=1)\n",
    "jogadores.head()"
   ]
  },
  {
   "cell_type": "code",
   "execution_count": 48,
   "id": "varying-thomas",
   "metadata": {},
   "outputs": [
    {
     "name": "stdout",
     "output_type": "stream",
     "text": [
      "0.0\n"
     ]
    }
   ],
   "source": [
    "# print(jogadores)\n",
    "print(jogadores.at[26436,'pontos'])"
   ]
  },
  {
   "cell_type": "code",
   "execution_count": 74,
   "id": "creative-reputation",
   "metadata": {},
   "outputs": [],
   "source": [
    "class Time:\n",
    "    def __init__(self, jogadores, formacao):\n",
    "        self.fitness = 0\n",
    "        self.preco = 0\n",
    "        self.velocidade = 0\n",
    "        self.pbest = None\n",
    "        self.pbest_fit = 0\n",
    "        self.formacao = formacao\n",
    "        self.jogadores = jogadores\n",
    "        self.parametros = {'zag': None, 'lat': None, 'mei': None, 'ata': None, 'gol': None, 'tec': None}\n",
    "        if self.formacao == 433:  \n",
    "                self.parametros['zag'] = random.sample(jogadores.loc[jogadores['posicao']=='zag'].index.tolist(),2)\n",
    "                self.parametros['lat'] = random.sample(jogadores.loc[jogadores['posicao']=='lat'].index.tolist(),2)\n",
    "                self.parametros['mei'] = random.sample(jogadores.loc[jogadores['posicao']=='mei'].index.tolist(),3)\n",
    "                self.parametros['ata'] = random.sample(jogadores.loc[jogadores['posicao']=='ata'].index.tolist(),3)\n",
    "                self.parametros['gol'] = random.sample(jogadores.loc[jogadores['posicao']=='gol'].index.tolist(),1)\n",
    "                self.parametros['tec'] = random.sample(jogadores.loc[jogadores['posicao']=='tec'].index.tolist(),1)\n",
    "                \n",
    "    def calc_fit(self):\n",
    "        total = 0\n",
    "        for key, value in self.parametros.items():\n",
    "            for idx in value:\n",
    "                total += jogadores.at[idx,'pontos']\n",
    "        return total"
   ]
  },
  {
   "cell_type": "code",
   "execution_count": 68,
   "id": "sticky-samuel",
   "metadata": {
    "collapsed": true
   },
   "outputs": [
    {
     "name": "stdout",
     "output_type": "stream",
     "text": [
      "zag [3501, 2505]\n",
      "3501\n",
      "2505\n",
      "lat [20275, 21566]\n",
      "20275\n",
      "21566\n",
      "mei [22441, 15788, 21330]\n",
      "22441\n",
      "15788\n",
      "21330\n",
      "ata [17266, 10421, 7181]\n",
      "17266\n",
      "10421\n",
      "7181\n",
      "gol [4514]\n",
      "4514\n",
      "tec [30598]\n",
      "30598\n",
      "14.33\n"
     ]
    }
   ],
   "source": [
    "random.seed(12)\n",
    "time = Time(jogadores, 433)\n",
    "print(time.calc_fit())"
   ]
  },
  {
   "cell_type": "code",
   "execution_count": 78,
   "id": "marked-convergence",
   "metadata": {},
   "outputs": [
    {
     "name": "stdout",
     "output_type": "stream",
     "text": [
      "{'zag': [2806, 13617], 'lat': [30101, 2877], 'mei': [16601, 3294, 9490], 'ata': [19835, 30394, 17520], 'gol': [18323], 'tec': [95]}\n",
      "{'zag': [11527, 4960], 'lat': [20275, 26932], 'mei': [7082, 9490, 26849], 'ata': [28034, 30391, 13031], 'gol': [1303], 'tec': [30598]}\n",
      "{'zag': [5635, 23708], 'lat': [4421, 22911], 'mei': [5506, 2788, 16254], 'ata': [30394, 17774, 5152], 'gol': [18323], 'tec': [7168]}\n",
      "{'zag': [3496, 13470], 'lat': [20275, 4906], 'mei': [26849, 11677, 3983], 'ata': [19835, 30915, 5129], 'gol': [18511], 'tec': [19380]}\n",
      "{'zag': [5635, 1685], 'lat': [11977, 4421], 'mei': [7569, 26849, 3294], 'ata': [11645, 7181, 4030], 'gol': [18142], 'tec': [13403]}\n",
      "{'zag': [2806, 13617], 'lat': [30101, 2877], 'mei': [16601, 3294, 9490], 'ata': [19835, 30394, 17520], 'gol': [18323], 'tec': [95]}\n",
      "{'zag': [11527, 4960], 'lat': [20275, 26932], 'mei': [7082, 9490, 26849], 'ata': [28034, 30391, 13031], 'gol': [1303], 'tec': [30598]}\n",
      "{'zag': [5635, 23708], 'lat': [4421, 22911], 'mei': [5506, 2788, 16254], 'ata': [30394, 17774, 5152], 'gol': [18323], 'tec': [7168]}\n",
      "{'zag': [3496, 13470], 'lat': [20275, 4906], 'mei': [26849, 11677, 3983], 'ata': [19835, 30915, 5129], 'gol': [18511], 'tec': [19380]}\n",
      "{'zag': [5635, 1685], 'lat': [11977, 4421], 'mei': [7569, 26849, 3294], 'ata': [11645, 7181, 4030], 'gol': [18142], 'tec': [13403]}\n"
     ]
    }
   ],
   "source": [
    "particles = []\n",
    "formacoes = [433]\n",
    "for i in range(5):\n",
    "    particles.append(Time(jogadores, random.choice(formacoes)))\n",
    "iterations = 0\n",
    "gbest = None\n",
    "gbest_fit = 0\n",
    "while iterations < 2:\n",
    "    for p in particles:\n",
    "        p.fitness = p.calc_fit()\n",
    "        if p.fitness > p.pbest_fit:\n",
    "            p.pbest = p\n",
    "            p.pbest_fit = p.fitness\n",
    "        if p.fitness > gbest_fit:\n",
    "            gbest_fit = p.fitness\n",
    "            gbest = p\n",
    "    for p in particles:\n",
    "        print(p.parametros)\n",
    "        #p.velocidade = w*p.velocidade + c1*r1*(p.pbest.parametros - p.parametros) + c2*r2*(gbest.parametros - p.parametros)\n",
    "        \n",
    "    iterations += 1"
   ]
  },
  {
   "cell_type": "markdown",
   "id": "phantom-communication",
   "metadata": {},
   "source": [
    "    For each particle\n",
    "        Initialize particle\n",
    "    END\n",
    "\n",
    "    Do\n",
    "        For each particle\n",
    "            Calculate fitness value\n",
    "            If the fitness value is better than the best fitness value (pBest) in history\n",
    "                set current value as the new pBest\n",
    "        End\n",
    "\n",
    "        Choose the particle with the best fitness value of all the particles as the gBest\n",
    "        For each particle\n",
    "            Calculate particle velocity according equation (a)\n",
    "            Update particle position according equation (b)\n",
    "        End\n",
    "    While maximum iterations or minimum error criteria is not attained"
   ]
  },
  {
   "cell_type": "code",
   "execution_count": null,
   "id": "moderate-audio",
   "metadata": {},
   "outputs": [],
   "source": []
  }
 ],
 "metadata": {
  "kernelspec": {
   "display_name": "Python 3",
   "language": "python",
   "name": "python3"
  },
  "language_info": {
   "codemirror_mode": {
    "name": "ipython",
    "version": 3
   },
   "file_extension": ".py",
   "mimetype": "text/x-python",
   "name": "python",
   "nbconvert_exporter": "python",
   "pygments_lexer": "ipython3",
   "version": "3.9.0"
  }
 },
 "nbformat": 4,
 "nbformat_minor": 5
}
