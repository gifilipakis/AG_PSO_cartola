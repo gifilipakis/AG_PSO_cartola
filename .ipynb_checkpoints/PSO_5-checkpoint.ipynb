{
 "cells": [
  {
   "cell_type": "markdown",
   "id": "shaped-distinction",
   "metadata": {},
   "source": [
    "# Particle Swarm Optimization - Cartola"
   ]
  },
  {
   "cell_type": "markdown",
   "id": "rising-guinea",
   "metadata": {},
   "source": [
    "## Modelagem da partícula"
   ]
  },
  {
   "cell_type": "markdown",
   "id": "distinguished-brush",
   "metadata": {},
   "source": [
    "### Parâmetros da partícula:\n",
    "\n",
    "Somatória das pontuações de 11 jogadores e 1 técnico escalados\n",
    "\n",
    "Posição dos membros do time: atacante, zagueiro, lateral, meio-campista, goleiro\n",
    "\n",
    "Formações táticas (defensores, meio-campistas, atacantes): 4-3-3, 4-4-2, 4-5-1, 3-5-2, 3-4-3, 5-3-2, 5-4-1\n",
    "\n",
    "    * 4 defensores = 2 zagueiros e 2 laterais\n",
    "    \n",
    "    * 5 defensores = 3 zagueiros 2 laterais\n",
    "    \n",
    "Status dos jogadores: provável, contundido, dúvida, suspenso, nula\n",
    "\n",
    "#### Restrições:\n",
    "\n",
    "Quantidade de cartolas disponíveis\n",
    "Membro disponível\n",
    "\n",
    "#### Representação da partícula:\n",
    "\n",
    "[ [ defensores ( zagueiros ou lateriais ) ], [ meio-campistas ], [ atacantes ], técnico ]"
   ]
  },
  {
   "cell_type": "markdown",
   "id": "existing-purple",
   "metadata": {},
   "source": [
    "## Pseudo-code"
   ]
  },
  {
   "cell_type": "markdown",
   "id": "phantom-communication",
   "metadata": {},
   "source": [
    "    For each particle\n",
    "        Initialize particle\n",
    "    END\n",
    "\n",
    "    Do\n",
    "        For each particle\n",
    "            Calculate fitness value\n",
    "            If the fitness value is better than the best fitness value (pBest) in history\n",
    "                set current value as the new pBest\n",
    "        End\n",
    "\n",
    "        Choose the particle with the best fitness value of all the particles as the gBest\n",
    "        For each particle\n",
    "            Calculate particle velocity according equation (a)\n",
    "            Update particle position according equation (b)\n",
    "        End\n",
    "    While maximum iterations or minimum error criteria is not attained"
   ]
  },
  {
   "cell_type": "code",
   "execution_count": 2,
   "id": "prostate-recommendation",
   "metadata": {},
   "outputs": [],
   "source": [
    "import pandas as pd\n",
    "import random"
   ]
  },
  {
   "cell_type": "code",
   "execution_count": 3,
   "id": "wound-boulder",
   "metadata": {},
   "outputs": [
    {
     "data": {
      "text/html": [
       "<div>\n",
       "<style scoped>\n",
       "    .dataframe tbody tr th:only-of-type {\n",
       "        vertical-align: middle;\n",
       "    }\n",
       "\n",
       "    .dataframe tbody tr th {\n",
       "        vertical-align: top;\n",
       "    }\n",
       "\n",
       "    .dataframe thead th {\n",
       "        text-align: right;\n",
       "    }\n",
       "</style>\n",
       "<table border=\"1\" class=\"dataframe\">\n",
       "  <thead>\n",
       "    <tr style=\"text-align: right;\">\n",
       "      <th></th>\n",
       "      <th>id</th>\n",
       "      <th>posicao</th>\n",
       "      <th>pontos</th>\n",
       "      <th>preco</th>\n",
       "      <th>status</th>\n",
       "    </tr>\n",
       "  </thead>\n",
       "  <tbody>\n",
       "    <tr>\n",
       "      <th>21330</th>\n",
       "      <td>94975</td>\n",
       "      <td>mei</td>\n",
       "      <td>0.0</td>\n",
       "      <td>1.46</td>\n",
       "      <td>Nulo</td>\n",
       "    </tr>\n",
       "    <tr>\n",
       "      <th>17271</th>\n",
       "      <td>89827</td>\n",
       "      <td>ata</td>\n",
       "      <td>0.0</td>\n",
       "      <td>4.17</td>\n",
       "      <td>Nulo</td>\n",
       "    </tr>\n",
       "    <tr>\n",
       "      <th>26436</th>\n",
       "      <td>100742</td>\n",
       "      <td>mei</td>\n",
       "      <td>0.0</td>\n",
       "      <td>1.04</td>\n",
       "      <td>Nulo</td>\n",
       "    </tr>\n",
       "    <tr>\n",
       "      <th>7082</th>\n",
       "      <td>70118</td>\n",
       "      <td>mei</td>\n",
       "      <td>0.0</td>\n",
       "      <td>1.27</td>\n",
       "      <td>Nulo</td>\n",
       "    </tr>\n",
       "    <tr>\n",
       "      <th>10485</th>\n",
       "      <td>78497</td>\n",
       "      <td>lat</td>\n",
       "      <td>0.0</td>\n",
       "      <td>5.49</td>\n",
       "      <td>Contundido</td>\n",
       "    </tr>\n",
       "  </tbody>\n",
       "</table>\n",
       "</div>"
      ],
      "text/plain": [
       "           id posicao  pontos  preco      status\n",
       "21330   94975     mei     0.0   1.46        Nulo\n",
       "17271   89827     ata     0.0   4.17        Nulo\n",
       "26436  100742     mei     0.0   1.04        Nulo\n",
       "7082    70118     mei     0.0   1.27        Nulo\n",
       "10485   78497     lat     0.0   5.49  Contundido"
      ]
     },
     "execution_count": 3,
     "metadata": {},
     "output_type": "execute_result"
    }
   ],
   "source": [
    "jogadores = pd.read_csv(\"caRtola/data/desafio_valorizacao/valorizacao_cartola_2018.csv\")\n",
    "jogadores = jogadores[['id','posicao','pontos','preco','status']].sample(n=200, random_state=1)\n",
    "jogadores.head()"
   ]
  },
  {
   "cell_type": "code",
   "execution_count": 21,
   "id": "amazing-admission",
   "metadata": {},
   "outputs": [],
   "source": [
    "zag = jogadores.loc[jogadores['posicao']=='zag'].values.tolist()\n",
    "lat = jogadores.loc[jogadores['posicao']=='let'].values.tolist()\n",
    "mei = jogadores.loc[jogadores['posicao']=='mei'].values.tolist()\n",
    "ata = jogadores.loc[jogadores['posicao']=='ata'].values.tolist()\n",
    "gol = jogadores.loc[jogadores['posicao']=='gol'].values.tolist()\n",
    "tec = jogadores.loc[jogadores['posicao']=='tec'].values.tolist()"
   ]
  },
  {
   "cell_type": "code",
   "execution_count": 23,
   "id": "necessary-collapse",
   "metadata": {},
   "outputs": [
    {
     "name": "stdout",
     "output_type": "stream",
     "text": [
      "[97902, 'zag', 0.0, 1.0, 'Nulo']\n"
     ]
    }
   ],
   "source": [
    "print(zag[5][2])"
   ]
  },
  {
   "cell_type": "code",
   "execution_count": 20,
   "id": "varying-thomas",
   "metadata": {},
   "outputs": [],
   "source": [
    "# 'zag1':None, 'zag2':None, 'zag3':None, \n",
    "# 'lat1':None, 'lat2':None, \n",
    "# 'mei1':None, 'mei2':None, 'mei3':None, 'mei4':None, 'mei5':None, \n",
    "# 'ata1':None, 'ata2':None, 'ata3':None, \n",
    "# 'gol':None, 'tec':None\n",
    "\n",
    "class Particle:\n",
    "    def __init__(self, formacao):\n",
    "        self.posicao = []\n",
    "        self.velocidade = []\n",
    "        self.pbest = []\n",
    "        self.formacao = formacao\n",
    "    \n",
    "        for i in range(0, 15): # [zag,zag,zag,lat,lat,mei,mei,mei,mei,mei,ata,ata,ata,gol,tec]\n",
    "            self.velocidade.append(random.uniform(-1,1))\n",
    "            if self.formacao == 532:\n",
    "                self.posicao = random.sample(range(1, len[zag]), 3)+random.sample(range(1, len[lat]), 2)\\\n",
    "                +random.sample(range(1, len[mei]), 3)+random.sample(range(1, len[ata]), 2)+random.sample(range(1, len[gol]), 1)\\\n",
    "                +random.sample(range(1, len[tec]), 1)\n",
    "    def calFitness(self):\n",
    "        total = 0\n",
    "        if self.formacao == 532:\n",
    "            for i in range len(self.posicao):\n",
    "                if i <= 2:\n",
    "                    total += zag[i][2]\n",
    "                elif 2 < i <= 4:\n",
    "                    total += lat[i][2]\n",
    "                elif"
   ]
  },
  {
   "cell_type": "code",
   "execution_count": null,
   "id": "superior-colombia",
   "metadata": {},
   "outputs": [],
   "source": []
  }
 ],
 "metadata": {
  "kernelspec": {
   "display_name": "Python 3",
   "language": "python",
   "name": "python3"
  },
  "language_info": {
   "codemirror_mode": {
    "name": "ipython",
    "version": 3
   },
   "file_extension": ".py",
   "mimetype": "text/x-python",
   "name": "python",
   "nbconvert_exporter": "python",
   "pygments_lexer": "ipython3",
   "version": "3.9.0"
  }
 },
 "nbformat": 4,
 "nbformat_minor": 5
}
