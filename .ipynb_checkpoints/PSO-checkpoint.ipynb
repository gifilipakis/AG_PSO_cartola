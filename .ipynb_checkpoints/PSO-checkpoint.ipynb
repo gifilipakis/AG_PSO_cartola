{
 "cells": [
  {
   "cell_type": "markdown",
   "id": "killing-ferry",
   "metadata": {},
   "source": [
    "# Particle Swarm Optimization - Cartola"
   ]
  },
  {
   "cell_type": "markdown",
   "id": "second-hungary",
   "metadata": {},
   "source": [
    "## Modelagem da partícula"
   ]
  },
  {
   "cell_type": "markdown",
   "id": "latin-captain",
   "metadata": {},
   "source": [
    "### Parâmetros da partícula:\n",
    "\n",
    "Somatória das pontuações de 11 jogadores e 1 técnico escalados\n",
    "\n",
    "Posição dos membros do time: atacante, zagueiro, lateral, meio-campista, goleiro\n",
    "\n",
    "Formações táticas (defensores, meio-campistas, atacantes): 4-3-3, 4-4-2, 4-5-1, 3-5-2, 3-4-3, 5-3-2, 5-4-1\n",
    "\n",
    "    * 4 defensores = 2 zagueiros e 2 laterais\n",
    "    \n",
    "    * 5 defensores = 3 zagueiros 2 laterais\n",
    "    \n",
    "Status dos jogadores: provável, contundido, dúvida, suspenso, nula\n",
    "\n",
    "#### Restrições:\n",
    "\n",
    "Quantidade de cartolas disponíveis\n",
    "Membro disponível\n",
    "\n",
    "#### Representação da partícula:\n",
    "\n",
    "[ [ defensores ( zagueiros ou lateriais ) ], [ meio-campistas ], [ atacantes ], técnico ]"
   ]
  },
  {
   "cell_type": "markdown",
   "id": "occupied-zimbabwe",
   "metadata": {},
   "source": [
    "## Pseudo-code"
   ]
  },
  {
   "cell_type": "markdown",
   "id": "champion-string",
   "metadata": {},
   "source": [
    "For each particle\n",
    "    Initialize particle\n",
    "END\n",
    "\n",
    "Do\n",
    "    For each particle\n",
    "        Calculate fitness value\n",
    "        If the fitness value is better than the best fitness value (pBest) in history\n",
    "            set current value as the new pBest\n",
    "    End\n",
    "\n",
    "    Choose the particle with the best fitness value of all the particles as the gBest\n",
    "    For each particle\n",
    "        Calculate particle velocity according equation (a)\n",
    "        Update particle position according equation (b)\n",
    "    End\n",
    "While maximum iterations or minimum error criteria is not attained"
   ]
  },
  {
   "cell_type": "code",
   "execution_count": 15,
   "id": "meaning-blackjack",
   "metadata": {},
   "outputs": [],
   "source": [
    "import pandas as pd\n",
    "import random"
   ]
  },
  {
   "cell_type": "code",
   "execution_count": 33,
   "id": "circular-confusion",
   "metadata": {},
   "outputs": [
    {
     "data": {
      "text/html": [
       "<div>\n",
       "<style scoped>\n",
       "    .dataframe tbody tr th:only-of-type {\n",
       "        vertical-align: middle;\n",
       "    }\n",
       "\n",
       "    .dataframe tbody tr th {\n",
       "        vertical-align: top;\n",
       "    }\n",
       "\n",
       "    .dataframe thead th {\n",
       "        text-align: right;\n",
       "    }\n",
       "</style>\n",
       "<table border=\"1\" class=\"dataframe\">\n",
       "  <thead>\n",
       "    <tr style=\"text-align: right;\">\n",
       "      <th></th>\n",
       "      <th>id</th>\n",
       "      <th>posicao</th>\n",
       "      <th>pontos</th>\n",
       "      <th>preco</th>\n",
       "      <th>status</th>\n",
       "    </tr>\n",
       "  </thead>\n",
       "  <tbody>\n",
       "    <tr>\n",
       "      <th>21330</th>\n",
       "      <td>94975</td>\n",
       "      <td>mei</td>\n",
       "      <td>0.0</td>\n",
       "      <td>1.46</td>\n",
       "      <td>Nulo</td>\n",
       "    </tr>\n",
       "    <tr>\n",
       "      <th>17271</th>\n",
       "      <td>89827</td>\n",
       "      <td>ata</td>\n",
       "      <td>0.0</td>\n",
       "      <td>4.17</td>\n",
       "      <td>Nulo</td>\n",
       "    </tr>\n",
       "    <tr>\n",
       "      <th>26436</th>\n",
       "      <td>100742</td>\n",
       "      <td>mei</td>\n",
       "      <td>0.0</td>\n",
       "      <td>1.04</td>\n",
       "      <td>Nulo</td>\n",
       "    </tr>\n",
       "    <tr>\n",
       "      <th>7082</th>\n",
       "      <td>70118</td>\n",
       "      <td>mei</td>\n",
       "      <td>0.0</td>\n",
       "      <td>1.27</td>\n",
       "      <td>Nulo</td>\n",
       "    </tr>\n",
       "    <tr>\n",
       "      <th>10485</th>\n",
       "      <td>78497</td>\n",
       "      <td>lat</td>\n",
       "      <td>0.0</td>\n",
       "      <td>5.49</td>\n",
       "      <td>Contundido</td>\n",
       "    </tr>\n",
       "  </tbody>\n",
       "</table>\n",
       "</div>"
      ],
      "text/plain": [
       "           id posicao  pontos  preco      status\n",
       "21330   94975     mei     0.0   1.46        Nulo\n",
       "17271   89827     ata     0.0   4.17        Nulo\n",
       "26436  100742     mei     0.0   1.04        Nulo\n",
       "7082    70118     mei     0.0   1.27        Nulo\n",
       "10485   78497     lat     0.0   5.49  Contundido"
      ]
     },
     "execution_count": 33,
     "metadata": {},
     "output_type": "execute_result"
    }
   ],
   "source": [
    "jogadores = pd.read_csv(\"caRtola/data/desafio_valorizacao/valorizacao_cartola_2018.csv\")\n",
    "jogadores = jogadores[['id','posicao','pontos','preco','status']].sample(n=20, random_state=1)\n",
    "jogadores.head()"
   ]
  },
  {
   "cell_type": "code",
   "execution_count": null,
   "id": "lyric-wells",
   "metadata": {},
   "outputs": [],
   "source": [
    "class Jogador:\n",
    "    def __init__(self, player_id, posicao, pontos, preco, status):\n",
    "        self.id = player_id\n",
    "        self.posicao = posicao\n",
    "        self.pontos = pontos\n",
    "        self.preco = preco\n",
    "        self.status = status"
   ]
  }
 ],
 "metadata": {
  "kernelspec": {
   "display_name": "Python 3",
   "language": "python",
   "name": "python3"
  },
  "language_info": {
   "codemirror_mode": {
    "name": "ipython",
    "version": 3
   },
   "file_extension": ".py",
   "mimetype": "text/x-python",
   "name": "python",
   "nbconvert_exporter": "python",
   "pygments_lexer": "ipython3",
   "version": "3.9.0"
  }
 },
 "nbformat": 4,
 "nbformat_minor": 5
}
